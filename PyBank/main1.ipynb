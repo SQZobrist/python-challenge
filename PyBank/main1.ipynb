{
 "cells": [
  {
   "cell_type": "code",
   "execution_count": 1,
   "metadata": {
    "scrolled": true
   },
   "outputs": [
    {
     "name": "stdout",
     "output_type": "stream",
     "text": [
      "The total number of months: 86\n",
      "The total net amount of Profit/Losses: 38382578\n",
      "The average change in Profit/Losses: 7803.476744186047\n",
      "The greatest increase: 1926159  on  Feb-2012\n",
      "The greatest decrease: -2196167  on  Sep-2013\n"
     ]
    }
   ],
   "source": [
    "import os\n",
    "import csv\n",
    "import sys\n",
    "\n",
    "csvpath = os.path.join('.', 'Resources', 'budget_data.csv')\n",
    "\n",
    "with open(csvpath, newline=\"\") as csvfile:\n",
    "    csvreader = csv.reader(csvfile, delimiter=\",\")\n",
    "    csv_header = next(csvreader)\n",
    "    \n",
    "    \n",
    "    lastMonth = 0\n",
    "    monthCount = 0\n",
    "    highestChange = 0\n",
    "    lowestChange = 0\n",
    "    netProfit = 0\n",
    "    totalChange = 0\n",
    "    \n",
    "    for data in csvreader:\n",
    "        thisMonth = int(data[1])\n",
    "        \n",
    "        monthCount = monthCount + 1\n",
    "        \n",
    "        netProfit = netProfit + int(data[1])\n",
    "        \n",
    "        change = thisMonth - lastMonth\n",
    "        \n",
    "        totalChange = totalChange + change\n",
    "        \n",
    "        if highestChange < change:\n",
    "            highestChange = change\n",
    "            highMonth = data[0]\n",
    "            \n",
    "        if lowestChange > change:\n",
    "            lowestChange = change\n",
    "            lowMonth = data[0]\n",
    "            \n",
    "        lastMonth = int(data[1])\n",
    "    averageChange = totalChange / monthCount\n",
    "\n",
    "    print(\"The total number of months:\", monthCount)\n",
    "    print(\"The total net amount of Profit/Losses:\", netProfit)\n",
    "    print(\"The average change in Profit/Losses:\", averageChange)\n",
    "    print(\"The greatest increase:\", highestChange, \" on \", highMonth)\n",
    "    print(\"The greatest decrease:\", lowestChange, \" on \", lowMonth)"
   ]
  },
  {
   "cell_type": "code",
   "execution_count": 5,
   "metadata": {
    "scrolled": true
   },
   "outputs": [],
   "source": [
    "with open('Output.txt', newline=\"\") as csvfile:\n",
    "    sys.stdout = open('Output.txt', 'w')\n",
    "    print(\"The total number of months:\", monthCount)\n",
    "    print(\"The total net amount of Profit/Losses:\", netProfit)\n",
    "    print(\"The average change in Profit/Losses:\", averageChange)\n",
    "    print(\"The greatest increase:\", highestChange, \" on \", highMonth)\n",
    "    print(\"The greatest decrease:\", lowestChange, \" on \", lowMonth)"
   ]
  }
 ],
 "metadata": {
  "kernelspec": {
   "display_name": "Python 3",
   "language": "python",
   "name": "python3"
  },
  "language_info": {
   "codemirror_mode": {
    "name": "ipython",
    "version": 3
   },
   "file_extension": ".py",
   "mimetype": "text/x-python",
   "name": "python",
   "nbconvert_exporter": "python",
   "pygments_lexer": "ipython3",
   "version": "3.7.0"
  }
 },
 "nbformat": 4,
 "nbformat_minor": 2
}
