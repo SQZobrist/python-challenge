{
 "cells": [
  {
   "cell_type": "code",
   "execution_count": null,
   "metadata": {},
   "outputs": [],
   "source": [
    "import os\n",
    "import csv\n",
    "import sys\n",
    "\n",
    "\n",
    "totalV = 0\n",
    "candidates = []\n",
    "winner = [\"\", 0, 0]\n",
    "\n",
    "csvpath = os.path.join('.', 'Resources', 'election_data.csv')\n",
    "\n",
    "with open(csvpath, newline=\"\") as csvfile:\n",
    "    csvreader = csv.reader(csvfile, delimiter=\",\")\n",
    "    csv_header = next(csvreader)\n",
    "    \n",
    "    for data in csvreader:\n",
    "        totalV += 1\n",
    "        \n",
    "        testC = 0\n",
    "        \n",
    "        for cand in candidates:\n",
    "            if cand == data[2]:\n",
    "                testC += 1\n",
    "                cand[1] += 1\n",
    "                \n",
    "        if testC == 0:\n",
    "            candidates.append([data[2], 1, 0])\n",
    "    \n",
    "    \n",
    "    print(\"Results: Total Votes: \", totalV, \"  \")    \n",
    "    \n",
    "    for cand in candidates:\n",
    "        cand[2] = (cand[1] / totalV) * 100\n",
    "        print(cand[0], \": \", cand[2], \"% (\", cand[1], \")  \" )\n",
    "        if winner[1] < cand[1]:\n",
    "            winner = cand\n",
    "            \n",
    "    print(\"  And the winner is: \", winner[0])"
   ]
  },
  {
   "cell_type": "code",
   "execution_count": null,
   "metadata": {},
   "outputs": [],
   "source": [
    "with open('Output.txt', newline=\"\") as csvfile:\n",
    "    sys.stdout = open('Output.txt', 'w')\n",
    "    print(\"Results: Total Votes: \", totalV, \"  \") \n",
    "    for cand in candidates:\n",
    "        cand[2] = (cand[1] / totalV) * 100\n",
    "        print(cand[0], \": \", cand[2], \"% (\", cand[1], \")  \" )\n",
    "        if winner[1] < cand[1]:\n",
    "            winner = cand\n",
    "            \n",
    "    print(\"  And the winner is: \", winner[0])"
   ]
  },
  {
   "cell_type": "code",
   "execution_count": null,
   "metadata": {},
   "outputs": [],
   "source": []
  },
  {
   "cell_type": "code",
   "execution_count": null,
   "metadata": {},
   "outputs": [],
   "source": []
  },
  {
   "cell_type": "code",
   "execution_count": null,
   "metadata": {},
   "outputs": [],
   "source": []
  },
  {
   "cell_type": "code",
   "execution_count": null,
   "metadata": {},
   "outputs": [],
   "source": []
  }
 ],
 "metadata": {
  "kernelspec": {
   "display_name": "Python 3",
   "language": "python",
   "name": "python3"
  },
  "language_info": {
   "codemirror_mode": {
    "name": "ipython",
    "version": 3
   },
   "file_extension": ".py",
   "mimetype": "text/x-python",
   "name": "python",
   "nbconvert_exporter": "python",
   "pygments_lexer": "ipython3",
   "version": "3.7.0"
  }
 },
 "nbformat": 4,
 "nbformat_minor": 2
}
